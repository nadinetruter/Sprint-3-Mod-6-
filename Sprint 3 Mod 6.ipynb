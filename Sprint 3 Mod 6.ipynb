{
 "cells": [
  {
   "cell_type": "code",
   "execution_count": 3,
   "metadata": {},
   "outputs": [
    {
     "name": "stdout",
     "output_type": "stream",
     "text": [
      "data is saved\n"
     ]
    }
   ],
   "source": [
    "import mysql.connector #import mysql\n",
    "\n",
    "mydb = mysql.connector.connect(host='localhost',user='root',passwd='0711783663Nt',database='testdb')#connect to mysql\n",
    "cur = mydb.cursor() #activate cursor\n",
    "\n",
    "#inserting data\n",
    "sql ='insert into mysqlcorrect(id,name,product1,product2,product3,product4,product5,product6)values(%s,%s,%s,%s,%s,%s,%s,%s)'\n",
    "\n",
    "val = [(8,'Biscuit','oreos','marie','romanycreams','tennis','shortbread','ginger'),\n",
    "      (9,'Porridge','oats','cornflakes','weetbix','nutrific','cocopops','all bran'),\n",
    "      (10,'Sweets','jellytots','jellybabies','licorice','lolipop','all sorts','sour worms')]\n",
    "\n",
    "#execute data\n",
    "cur.executemany(sql,val)\n",
    "\n",
    "mydb.commit()\n",
    "\n",
    "print('data is saved')\n"
   ]
  },
  {
   "cell_type": "code",
   "execution_count": 3,
   "metadata": {},
   "outputs": [
    {
     "name": "stdout",
     "output_type": "stream",
     "text": [
      "(1, 'Chips', 'Simba', 'Lays', 'None', 'NikNak', 'flings', 'Doritos')\n",
      "(2, 'Cooldrinks ', 'Coke', 'Fanta', 'None', 'Stoney', 'Twist', 'Sprite')\n",
      "(3, 'Chocolates', 'Cadbury', 'Tex', 'None', 'kitkat', 'aero', 'Ps')\n",
      "(4, 'Pies', 'Steak', 'Chicken', 'None', 'Mince', 'Spinach', 'Liver')\n",
      "(5, 'Fruit', 'Pear', 'Apple', 'Orange ', 'banana', 'kiwi', 'grape')\n",
      "(6, 'Cupcakes', 'Vanilla', 'Chocolate ', 'None', 'strawberry', 'lemon', 'cramel')\n",
      "(7, 'Veggies', 'Spinich', 'Cabbage', 'None', 'Squash', 'lettuce', 'cucumber')\n",
      "(8, 'Biscuit', 'oreos', 'marie', 'romanycreams', 'tennis', 'shortbread', 'ginger')\n",
      "(9, 'Porridge', 'oats', 'cornflakes', 'weetbix', 'nutrific', 'cocopops', 'all bran')\n",
      "(10, 'Sweets', 'jellytots', 'jellybabies', 'licorice', 'lolipop', 'all sorts', 'sour worms')\n"
     ]
    }
   ],
   "source": [
    "import mysql.connector\n",
    "\n",
    "mydb = mysql.connector.connect(host='localhost',user='root',passwd='0711783663Nt',database='testdb')\n",
    "cur = mydb.cursor()\n",
    "\n",
    "cur.execute('select * from mysqlcorrect')\n",
    "result =cur.fetchall()\n",
    "for i in result:\n",
    "    print(i)"
   ]
  },
  {
   "cell_type": "code",
   "execution_count": 4,
   "metadata": {},
   "outputs": [
    {
     "name": "stdout",
     "output_type": "stream",
     "text": [
      "('Chips', 'Simba', 1)\n",
      "('Cooldrinks ', 'Coke', 2)\n",
      "('Chocolates', 'Cadbury', 3)\n",
      "('Pies', 'Steak', 4)\n",
      "('Fruit', 'Pear', 5)\n",
      "('Cupcakes', 'Vanilla', 6)\n",
      "('Veggies', 'Spinich', 7)\n",
      "('Biscuit', 'oreos', 8)\n",
      "('Porridge', 'oats', 9)\n",
      "('Sweets', 'jellytots', 10)\n"
     ]
    }
   ],
   "source": [
    "import mysql.connector\n",
    "\n",
    "mydb = mysql.connector.connect(host='localhost',user='root',passwd='0711783663Nt',database='testdb')\n",
    "cur = mydb.cursor()\n",
    "\n",
    "cur.execute('select * from mysql2')\n",
    "result =cur.fetchall()\n",
    "for i in result:\n",
    "    print(i)"
   ]
  },
  {
   "cell_type": "code",
   "execution_count": null,
   "metadata": {},
   "outputs": [],
   "source": []
  }
 ],
 "metadata": {
  "kernelspec": {
   "display_name": "Python 3",
   "language": "python",
   "name": "python3"
  },
  "language_info": {
   "codemirror_mode": {
    "name": "ipython",
    "version": 3
   },
   "file_extension": ".py",
   "mimetype": "text/x-python",
   "name": "python",
   "nbconvert_exporter": "python",
   "pygments_lexer": "ipython3",
   "version": "3.7.6"
  }
 },
 "nbformat": 4,
 "nbformat_minor": 4
}
